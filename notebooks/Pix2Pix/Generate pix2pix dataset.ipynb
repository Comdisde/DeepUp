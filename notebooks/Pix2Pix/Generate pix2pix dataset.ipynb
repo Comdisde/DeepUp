{
 "cells": [
  {
   "cell_type": "markdown",
   "metadata": {},
   "source": [
    "## Libraries"
   ]
  },
  {
   "cell_type": "code",
   "execution_count": 5,
   "metadata": {
    "ExecuteTime": {
     "end_time": "2019-09-14T15:50:34.168675Z",
     "start_time": "2019-09-14T15:50:34.162691Z"
    }
   },
   "outputs": [],
   "source": [
    "import os\n",
    "import cv2\n",
    "import pandas as pd\n",
    "import numpy as np\n",
    "import matplotlib.pyplot as plt\n",
    "from PIL import Image\n",
    "from shutil import copyfile\n",
    "from glob import glob\n",
    "from multiprocessing import Pool"
   ]
  },
  {
   "cell_type": "markdown",
   "metadata": {},
   "source": [
    "## Label Colors"
   ]
  },
  {
   "cell_type": "code",
   "execution_count": 6,
   "metadata": {
    "ExecuteTime": {
     "end_time": "2019-09-14T15:50:35.168824Z",
     "start_time": "2019-09-14T15:50:35.162841Z"
    }
   },
   "outputs": [],
   "source": [
    "labels={\"playera_gris/playera_blanca\":(255,0,0),        \n",
    "         \"playera_negra/playera_azul\":(0,255,0),\n",
    "         \"pantalon_mezclilla\":(0,0,255),\n",
    "         \"pantalon_negro\":(0,255,255),\n",
    "         \"sudadera_azul\":(255,255,0),\n",
    "         \"playera-tigre\":(255,0,255)}"
   ]
  },
  {
   "cell_type": "markdown",
   "metadata": {},
   "source": [
    "## Generate Train DataSet"
   ]
  },
  {
   "cell_type": "code",
   "execution_count": 7,
   "metadata": {
    "ExecuteTime": {
     "end_time": "2019-09-14T15:50:57.593724Z",
     "start_time": "2019-09-14T15:50:35.387240Z"
    }
   },
   "outputs": [],
   "source": [
    "img_paths=glob(\"../../data/LookBook-Labeled/labeled_imgs/*.jpg\")\n",
    "gen=iter(range(1000))\n",
    "for img_path in img_paths:\n",
    "    img=plt.imread(img_path).copy()\n",
    "    mask_paths=glob(img_path.replace(\".jpg\",\"\")+\"_*.png\")\n",
    "    for mask_path in mask_paths:\n",
    "        img=plt.imread(img_path).copy()\n",
    "        mask=(plt.imread(mask_path)[...,:3]*255).astype(np.uint8)\n",
    "        h,w,_=np.where(mask!=0)\n",
    "        img[(mask[...,0]==0)&(mask[...,1]==0)&(mask[...,2]==0)]=[255,255,255]\n",
    "        img=img[min(h):max(h),min(w):max(w)]\n",
    "        mask=mask[min(h):max(h),min(w):max(w)]\n",
    "        merge_img=cv2.resize(np.concatenate([img,mask],axis=1),(256*2,256))\n",
    "\n",
    "        plt.imsave(f\"../../data/LookBook-Labeled/train/{next(gen)}.png\",merge_img)\n",
    "        degree=np.random.randint(0,180)\n",
    "        merge_img=cv2.resize(np.concatenate([np.array(Image.fromarray(img).rotate(degree,fillcolor=(255,255,255))),\n",
    "                                             np.array(Image.fromarray(mask).rotate(degree,fillcolor=(0,0,0)))],axis=1),(256*2,256))\n",
    "        \n",
    "        plt.imsave(f\"../../data/LookBook-Labeled/train/{next(gen)}.png\",merge_img)\n",
    "        \n",
    "        merge_img=cv2.resize(np.concatenate([np.fliplr(img),np.fliplr(mask)],axis=1),(256*2,256))\n",
    "        \n",
    "        merge_img=cv2.resize(np.concatenate([np.fliplr(img),np.fliplr(mask)],axis=1),(256*2,256))\n",
    "        plt.imsave(f\"../../data/LookBook-Labeled/train/{next(gen)}.png\",merge_img)\n",
    "        \n",
    "        merge_img=cv2.resize(np.concatenate([np.flipud(img),np.flipud(mask)],axis=1),(256*2,256))\n",
    "        plt.imsave(f\"../../data/LookBook-Labeled/train/{next(gen)}.png\",merge_img)"
   ]
  },
  {
   "cell_type": "markdown",
   "metadata": {},
   "source": [
    "## Train Val Split"
   ]
  },
  {
   "cell_type": "code",
   "execution_count": 9,
   "metadata": {
    "ExecuteTime": {
     "end_time": "2019-09-14T15:51:21.604089Z",
     "start_time": "2019-09-14T15:51:21.412596Z"
    }
   },
   "outputs": [],
   "source": [
    "train_files=glob(\"../../data/LookBook-Labeled/train/*\")\n",
    "\n",
    "np.random.shuffle(train_files)\n",
    "\n",
    "for src in train_files[:int(len(train_files)*.3)]:\n",
    "    os.rename(src,src.replace(\"train\",\"val\"))\n",
    "    "
   ]
  }
 ],
 "metadata": {
  "kernelspec": {
   "display_name": "Python 3",
   "language": "python",
   "name": "python3"
  },
  "language_info": {
   "codemirror_mode": {
    "name": "ipython",
    "version": 3
   },
   "file_extension": ".py",
   "mimetype": "text/x-python",
   "name": "python",
   "nbconvert_exporter": "python",
   "pygments_lexer": "ipython3",
   "version": "3.6.9"
  },
  "varInspector": {
   "cols": {
    "lenName": 16,
    "lenType": 16,
    "lenVar": 40
   },
   "kernels_config": {
    "python": {
     "delete_cmd_postfix": "",
     "delete_cmd_prefix": "del ",
     "library": "var_list.py",
     "varRefreshCmd": "print(var_dic_list())"
    },
    "r": {
     "delete_cmd_postfix": ") ",
     "delete_cmd_prefix": "rm(",
     "library": "var_list.r",
     "varRefreshCmd": "cat(var_dic_list()) "
    }
   },
   "types_to_exclude": [
    "module",
    "function",
    "builtin_function_or_method",
    "instance",
    "_Feature"
   ],
   "window_display": false
  }
 },
 "nbformat": 4,
 "nbformat_minor": 2
}
