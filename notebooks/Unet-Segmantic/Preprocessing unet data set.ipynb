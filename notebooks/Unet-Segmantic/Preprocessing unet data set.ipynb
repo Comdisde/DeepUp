{
 "cells": [
  {
   "cell_type": "markdown",
   "metadata": {},
   "source": [
    "## Libraries"
   ]
  },
  {
   "cell_type": "code",
   "execution_count": 1,
   "metadata": {
    "ExecuteTime": {
     "end_time": "2019-09-14T14:57:32.111439Z",
     "start_time": "2019-09-14T14:57:30.569449Z"
    }
   },
   "outputs": [],
   "source": [
    "from skimage import transform\n",
    "import glob\n",
    "import pandas\n",
    "import os\n",
    "import scipy.io\n",
    "import cv2\n",
    "import matplotlib.pyplot as plt \n",
    "from shutil import copyfile\n",
    "%matplotlib inline"
   ]
  },
  {
   "cell_type": "markdown",
   "metadata": {},
   "source": [
    "## Label list"
   ]
  },
  {
   "cell_type": "code",
   "execution_count": 2,
   "metadata": {
    "ExecuteTime": {
     "end_time": "2019-09-14T14:57:32.140246Z",
     "start_time": "2019-09-14T14:57:32.136257Z"
    }
   },
   "outputs": [],
   "source": [
    "path=\"../../data/Clothing Co-Parsing\""
   ]
  },
  {
   "cell_type": "code",
   "execution_count": 3,
   "metadata": {
    "ExecuteTime": {
     "end_time": "2019-09-14T14:57:32.173158Z",
     "start_time": "2019-09-14T14:57:32.167175Z"
    }
   },
   "outputs": [],
   "source": [
    "label_list=scipy.io.loadmat(f'{path}/label_list.mat')"
   ]
  },
  {
   "cell_type": "code",
   "execution_count": 4,
   "metadata": {
    "ExecuteTime": {
     "end_time": "2019-09-14T14:57:32.209092Z",
     "start_time": "2019-09-14T14:57:32.204077Z"
    },
    "scrolled": true
   },
   "outputs": [],
   "source": [
    "class_names=( { w:v for v,w in enumerate(map(lambda x: x[0],label_list[\"label_list\"][0]))})"
   ]
  },
  {
   "cell_type": "markdown",
   "metadata": {},
   "source": [
    "## Select clothes"
   ]
  },
  {
   "cell_type": "code",
   "execution_count": 5,
   "metadata": {
    "ExecuteTime": {
     "end_time": "2019-09-14T14:57:32.256934Z",
     "start_time": "2019-09-14T14:57:32.249954Z"
    },
    "scrolled": false
   },
   "outputs": [],
   "source": [
    "clothes_interest=['blazer','blouse','bodysuit','cardigan','coat','hoodie','jacket','jeans','jumper','leggings','pants',\n",
    "                  'romper','shirt','shorts','suit','sweater','sweatshirt','t-shirt','vest']\n",
    "\n",
    "\n",
    "clothes_sup=list(map(lambda x: (class_names[x],\"sup\",x),[\"blazer\", \"blouse\", \"coat\",\"jacket\",\"shirt\",\"sweater\",\"sweatshirt\",\n",
    "                                     \"vest\",\"hoodie\",\"cardigan\",\"bodysuit\",\"jumper\",\n",
    "                                     \"suit\",\"romper\",\"t-shirt\"]))\n",
    "clothes_inf=[(class_names[clth],\"inf\",clth) for clth in clothes_interest if not clth in [\"blazer\", \"blouse\", \"coat\",\n",
    "                                                                                         \"jacket\",\"shirt\",\"sweater\",\"sweatshirt\",\"vest\",\"hoodie\",\n",
    "                                                                                         \"cardigan\",\"bodysuit\",\"jumper\",\"suit\",\"romper\",\"t-shirt\"]]\n",
    "\n",
    "ids_sup=[x[0] for x in clothes_sup]\n",
    "ids_inf=[x[0] for x in clothes_inf]\n"
   ]
  },
  {
   "cell_type": "code",
   "execution_count": 6,
   "metadata": {
    "ExecuteTime": {
     "end_time": "2019-09-14T14:57:32.755614Z",
     "start_time": "2019-09-14T14:57:32.749618Z"
    }
   },
   "outputs": [
    {
     "data": {
      "text/plain": [
       "0"
      ]
     },
     "execution_count": 6,
     "metadata": {},
     "output_type": "execute_result"
    }
   ],
   "source": [
    "len(clothes_interest)-(len(clothes_sup)+len(clothes_inf))"
   ]
  },
  {
   "cell_type": "markdown",
   "metadata": {},
   "source": [
    "## Generate arrays"
   ]
  },
  {
   "cell_type": "code",
   "execution_count": 8,
   "metadata": {
    "ExecuteTime": {
     "end_time": "2019-09-14T15:01:28.624400Z",
     "start_time": "2019-09-14T14:57:57.582606Z"
    },
    "scrolled": true
   },
   "outputs": [],
   "source": [
    "list_segs=[]\n",
    "list_imgs=[]\n",
    "for x in glob.glob(f\"{path}/all_imgs/*.jpg\"):\n",
    "    seg_array=scipy.io.loadmat(x.replace(\"jpg\",\"mat\"))[\"groundtruth\"]\n",
    "    seg_array[~np.isin(seg_array, np.array(ids_sup+ids_inf))]=0\n",
    "    seg_array=(seg_array.reshape((*seg_array.shape,1)))\n",
    "    seg_array=np.concatenate([seg_array==0, np.isin(seg_array,ids_sup),np.isin(seg_array,ids_inf)],axis=2)\n",
    "    list_segs.append(transform.resize(seg_array,(512,832)).round().astype(np.uint8))\n",
    "    list_imgs.append(transform.resize(plt.imread(x),(512,832)).round().astype(np.uint8))    "
   ]
  },
  {
   "cell_type": "code",
   "execution_count": 9,
   "metadata": {
    "ExecuteTime": {
     "end_time": "2019-09-14T15:01:53.776728Z",
     "start_time": "2019-09-14T15:01:53.183289Z"
    }
   },
   "outputs": [],
   "source": [
    "list_imgs=np.array(list_imgs,dtype=np.uint8)"
   ]
  },
  {
   "cell_type": "code",
   "execution_count": 10,
   "metadata": {
    "ExecuteTime": {
     "end_time": "2019-09-14T15:01:55.334560Z",
     "start_time": "2019-09-14T15:01:54.751096Z"
    }
   },
   "outputs": [],
   "source": [
    "list_segs=np.array(list_segs,dtype=np.uint8)"
   ]
  },
  {
   "cell_type": "code",
   "execution_count": 11,
   "metadata": {
    "ExecuteTime": {
     "end_time": "2019-09-14T15:02:01.424284Z",
     "start_time": "2019-09-14T15:01:57.766029Z"
    }
   },
   "outputs": [],
   "source": [
    "np.savez(\"../../data/segs_unet\",(list_segs))\n",
    "np.savez(\"../../data/imgs_unet\",(list_imgs))"
   ]
  },
  {
   "cell_type": "code",
   "execution_count": null,
   "metadata": {},
   "outputs": [],
   "source": []
  }
 ],
 "metadata": {
  "kernelspec": {
   "display_name": "Python 3",
   "language": "python",
   "name": "python3"
  },
  "language_info": {
   "codemirror_mode": {
    "name": "ipython",
    "version": 3
   },
   "file_extension": ".py",
   "mimetype": "text/x-python",
   "name": "python",
   "nbconvert_exporter": "python",
   "pygments_lexer": "ipython3",
   "version": "3.6.9"
  },
  "varInspector": {
   "cols": {
    "lenName": 16,
    "lenType": 16,
    "lenVar": 40
   },
   "kernels_config": {
    "python": {
     "delete_cmd_postfix": "",
     "delete_cmd_prefix": "del ",
     "library": "var_list.py",
     "varRefreshCmd": "print(var_dic_list())"
    },
    "r": {
     "delete_cmd_postfix": ") ",
     "delete_cmd_prefix": "rm(",
     "library": "var_list.r",
     "varRefreshCmd": "cat(var_dic_list()) "
    }
   },
   "position": {
    "height": "685.488px",
    "left": "675px",
    "right": "20px",
    "top": "86px",
    "width": "768.496px"
   },
   "types_to_exclude": [
    "module",
    "function",
    "builtin_function_or_method",
    "instance",
    "_Feature"
   ],
   "window_display": false
  }
 },
 "nbformat": 4,
 "nbformat_minor": 2
}
